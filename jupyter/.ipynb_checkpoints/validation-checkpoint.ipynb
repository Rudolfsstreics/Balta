{
 "cells": [
  {
   "cell_type": "code",
   "execution_count": 2,
   "id": "dd7b47f5-a151-417d-9815-79941c003482",
   "metadata": {},
   "outputs": [],
   "source": [
    "import sqlalchemy\n",
    "import pandas as pd"
   ]
  },
  {
   "cell_type": "code",
   "execution_count": 3,
   "id": "d36b301c-40d1-4291-a5c3-700901c5cdb8",
   "metadata": {},
   "outputs": [],
   "source": [
    "from sqlalchemy.engine import URL\n",
    "connection_url = URL.create(\n",
    "    \"mssql+pyodbc\",\n",
    "    username=\"rudolfs\",\n",
    "    password=\"aaaa\",\n",
    "    host=\"localhost\",\n",
    "    port=1433,\n",
    "    database=\"balta_bronze\",\n",
    "    query={\n",
    "        \"driver\": \"ODBC Driver 17 for SQL Server\",\n",
    "        \"TrustServerCertificate\": \"yes\",\n",
    "    },\n",
    ")\n",
    "# engine = sqlalchemy.create_engine('mssql://localhost/balta_bronze?trusted_connection=yes')\n",
    "connection_url\n",
    "engine = sqlalchemy.create_engine(connection_url)"
   ]
  },
  {
   "cell_type": "code",
   "execution_count": null,
   "id": "6c543f35-9d72-4660-b989-257a55e454ff",
   "metadata": {},
   "outputs": [],
   "source": [
    "import pandera.pandas as pa"
   ]
  },
  {
   "cell_type": "code",
   "execution_count": 40,
   "id": "6816c87d-8e15-4d0f-a1ba-db0e92a1d5a8",
   "metadata": {},
   "outputs": [],
   "source": [
    "# Example of bad data filtering via pandas\n",
    "with engine.connect() as connection:\n",
    "    claims = pd.read_sql(f\"SELECT *  FROM balta_bronze.dbo.claims\",connection)\n",
    "    policies = pd.read_sql(f\"SELECT *  FROM balta_bronze.dbo.policies\",connection)\n",
    "    df = claims.join(policies.set_index('policy_id').add_suffix('_policie_cols'), on='policy_id', how='left')\n",
    "    df = df.loc[df['claim_date'] <= df['end_date_policie_cols']]\n",
    "    df = df.loc[:,~df.columns.str.endswith('_policie_cols')]\n",
    "\n",
    "    df.drop_duplicates(subset=['claim_id'], keep='first', inplace=True, ignore_index=True)\n",
    "    df = df.reset_index(drop=True)\n",
    "\n",
    "    connection.execute(text('USE [balta_silver];'))\n",
    "    df.to_sql(name='claims',schema='dbo',con=connection,if_exists='replace',index=False)\n",
    "    "
   ]
  },
  {
   "cell_type": "code",
   "execution_count": 33,
   "id": "af308906-a57e-4505-8467-40b8f51b9121",
   "metadata": {},
   "outputs": [],
   "source": [
    "# Example of bad data filtering via pandera\n",
    "from datetime import datetime\n",
    "import pandera.pandas as pa\n",
    "import numpy as np \n",
    "from sqlalchemy import text\n",
    "with engine.connect() as connection:\n",
    "    df = pd.read_sql(f\"SELECT *  FROM balta_bronze.dbo.offers\",connection\n",
    "                    )\n",
    "    df = df.drop_duplicates(subset=['offer_id'], keep='first', ignore_index=True)\n",
    "    df = df.reset_index(drop=True)\n",
    "    schema = pa.DataFrameSchema(\n",
    "        {\"offer_id\": pa.Column(str),\n",
    "        \"customer_id\": pa.Column(int, pa.Check(lambda x: x > 0)),\n",
    "        \"product_code\": pa.Column(str),\n",
    "        \"product_variant\": pa.Column(str),\n",
    "        \"offer_datetime\": pa.Column(pa.DateTime, pa.Check(lambda x: x < datetime.today())),\n",
    "        \"premium_offered\": pa.Column(np.float64, pa.Check(lambda x: x > 0)),\n",
    "        \"sales_source\": pa.Column(str),\n",
    "        \"sum_insured\": pa.Column(np.float64, pa.Check(lambda x: x > 0)),\n",
    "        \"coverage_hash\": pa.Column(str, pa.Check(lambda x: len(x) == 32))},\n",
    "                index=pa.Index(int),\n",
    "                drop_invalid_rows=True,\n",
    "                coerce =True,\n",
    "        )\n",
    "    df = schema(df, lazy=True)    \n",
    "\n",
    "    connection.execute(text('USE [balta_silver];'))\n",
    "    df.to_sql(name='offers',schema='dbo',con=connection,if_exists='replace',index=False)"
   ]
  },
  {
   "cell_type": "code",
   "execution_count": 38,
   "id": "d55af3d6-32dc-43f5-acd8-b37c40ba8b60",
   "metadata": {},
   "outputs": [],
   "source": [
    "with engine.connect() as connection:\n",
    "    df = pd.read_sql(f\"SELECT *  FROM balta_bronze.dbo.policies\",connection)\n",
    "    df.drop_duplicates(subset=['policy_id'], keep='first', inplace=True, ignore_index=True)\n",
    "    df = df.reset_index(drop=True)\n",
    "\n",
    "    connection.execute(text('USE [balta_silver];'))\n",
    "    df.to_sql(name='policies',schema='dbo',con=connection,if_exists='replace',index=False)"
   ]
  },
  {
   "cell_type": "code",
   "execution_count": 39,
   "id": "e5724892-31ce-4e11-880b-e928820f7307",
   "metadata": {},
   "outputs": [],
   "source": [
    "\n",
    "with engine.connect() as connection:\n",
    "    df = pd.read_sql(f\"SELECT *  FROM balta_bronze.dbo.customers\",connection)\n",
    "    df.drop_duplicates(subset=['customer_id'], keep='first', inplace=True, ignore_index=True)\n",
    "    df = df.reset_index(drop=True)\n",
    "\n",
    "    connection.execute(text('USE [balta_silver];'))\n",
    "    df.to_sql(name='customers',schema='dbo',con=connection,if_exists='replace',index=False)"
   ]
  },
  {
   "cell_type": "code",
   "execution_count": null,
   "id": "8ea371cc-ff29-4ff2-9d81-e53ee49e3a89",
   "metadata": {},
   "outputs": [],
   "source": []
  }
 ],
 "metadata": {
  "kernelspec": {
   "display_name": "Python 3 (ipykernel)",
   "language": "python",
   "name": "python3"
  },
  "language_info": {
   "codemirror_mode": {
    "name": "ipython",
    "version": 3
   },
   "file_extension": ".py",
   "mimetype": "text/x-python",
   "name": "python",
   "nbconvert_exporter": "python",
   "pygments_lexer": "ipython3",
   "version": "3.11.9"
  }
 },
 "nbformat": 4,
 "nbformat_minor": 5
}
